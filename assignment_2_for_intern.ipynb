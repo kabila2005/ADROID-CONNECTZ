{
  "nbformat": 4,
  "nbformat_minor": 0,
  "metadata": {
    "colab": {
      "provenance": []
    },
    "kernelspec": {
      "name": "python3",
      "display_name": "Python 3"
    },
    "language_info": {
      "name": "python"
    }
  },
  "cells": [
    {
      "cell_type": "code",
      "execution_count": null,
      "metadata": {
        "colab": {
          "base_uri": "https://localhost:8080/"
        },
        "id": "dyhpNdKrinM3",
        "outputId": "92b0d071-3549-45ad-a38d-4096f066629c"
      },
      "outputs": [
        {
          "output_type": "stream",
          "name": "stdout",
          "text": [
            "Original list: ['Ram', 1, 'Shyam', 2, 'Aman', 3]\n",
            "Sorted list: ['Aman', 'Ram', 'Shyam', 1, 2, 3]\n"
          ]
        }
      ],
      "source": [
        "L = [\"Ram\", 1, \"Shyam\", 2, \"Aman\", 3]\n",
        "\n",
        "# Separate strings and numbers\n",
        "strings = [elem for elem in L if isinstance(elem, str)]\n",
        "numbers = [elem for elem in L if isinstance(elem, int)]\n",
        "\n",
        "# Sort strings alphabetically\n",
        "strings.sort()\n",
        "\n",
        "# Sort numbers numerically\n",
        "numbers.sort()\n",
        "\n",
        "# Combine sorted lists\n",
        "sorted_L = strings + numbers\n",
        "\n",
        "print(\"Original list:\", L)\n",
        "print(\"Sorted list:\", sorted_L)\n"
      ]
    }
  ]
}